{
 "cells": [
  {
   "cell_type": "code",
   "execution_count": 33,
   "metadata": {},
   "outputs": [
    {
     "name": "stdout",
     "output_type": "stream",
     "text": [
      "MacyHub Networks\n",
      "FAQ\n",
      "\n",
      "\n",
      "Question 1: What's the company's name?\n",
      "Question 2: How old is the company?\n",
      "Question 3: Where's the company's office?\n",
      "Question 4: Who's the company's founder?\n",
      "\n",
      "SELECT THE QUESTION THAT MATCHES YOUR SEARCH/REQUEST\n",
      "Please enter question as 1, 2, 3, 4: 7\n",
      "\n",
      "\n",
      "Contact us via email: Macyhubnetworks@gmail.com or call the number: +2348075609028\n",
      "Thank You!!!!\n"
     ]
    }
   ],
   "source": [
    "company_name = 'MacyHub Networks'\n",
    "print(company_name)\n",
    "\n",
    "obj = 'FAQ'\n",
    "print(obj)\n",
    "print('\\n')\n",
    "questions = '''Question 1: What's the company's name?\n",
    "Question 2: How old is the company?\n",
    "Question 3: Where's the company's office?\n",
    "Question 4: Who's the company's founder?\n",
    "'''\n",
    "\n",
    "print(questions)\n",
    "\n",
    "question1 = \"What's the company's name?\"\n",
    "question2 = \"How old is the company?\"\n",
    "question3 = \"Where's the company's office?\"\n",
    "question4 = \"Who's the company's founder?\"\n",
    "\n",
    "faq = {'ques1': 'Answer: MacyHub Networks',\n",
    "'ques2': 'Answer: 5 Years',\n",
    "'ques3': 'Answer: Abuja',\n",
    "'ques4': 'Answer: KingDavdd $upremacy'}\n",
    "\n",
    "print('SELECT THE QUESTION THAT MATCHES YOUR SEARCH/REQUEST')\n",
    "    \n",
    "user_question = int(input('Please enter question as 1, 2, 3, 4: '))\n",
    "print('\\n')\n",
    "\n",
    "if user_question == 1:\n",
    "    print(f'Question: {question1}')\n",
    "    print(faq['ques1'])\n",
    "elif user_question == 2:\n",
    "    print(f'Question: {question2}')\n",
    "    print(faq['ques2'])\n",
    "elif user_question == 3:\n",
    "    print(f'Question: {question3}')\n",
    "    print(faq['ques3'])\n",
    "elif user_question == 4:\n",
    "    print(f'Question: {question4}')\n",
    "    print(faq['ques4'])\n",
    "else:\n",
    "    print('Contact us via email: Macyhubnetworks@gmail.com or call the number: +2348075609028')\n",
    "   \n",
    "    print('Thank You!!!!')\n",
    "    \n",
    "    "
   ]
  },
  {
   "cell_type": "code",
   "execution_count": null,
   "metadata": {},
   "outputs": [],
   "source": []
  }
 ],
 "metadata": {
  "kernelspec": {
   "display_name": "Python 3",
   "language": "python",
   "name": "python3"
  },
  "language_info": {
   "codemirror_mode": {
    "name": "ipython",
    "version": 3
   },
   "file_extension": ".py",
   "mimetype": "text/x-python",
   "name": "python",
   "nbconvert_exporter": "python",
   "pygments_lexer": "ipython3",
   "version": "3.8.5"
  }
 },
 "nbformat": 4,
 "nbformat_minor": 4
}
