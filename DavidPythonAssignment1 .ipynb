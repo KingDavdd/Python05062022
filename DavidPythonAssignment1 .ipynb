{
 "cells": [
  {
   "cell_type": "code",
   "execution_count": 2,
   "metadata": {},
   "outputs": [
    {
     "name": "stdout",
     "output_type": "stream",
     "text": [
      "MY NAME IS DAVID\n"
     ]
    }
   ],
   "source": [
    "print('MY NAME IS DAVID')"
   ]
  },
  {
   "cell_type": "code",
   "execution_count": 3,
   "metadata": {},
   "outputs": [
    {
     "name": "stdout",
     "output_type": "stream",
     "text": [
      "i'm from a well-known village with a good culture in Anambra state\n"
     ]
    }
   ],
   "source": [
    "state = 'i\\'m from a well-known village with a good culture in Anambra state'\n",
    "print(state)"
   ]
  },
  {
   "cell_type": "code",
   "execution_count": 6,
   "metadata": {},
   "outputs": [
    {
     "name": "stdout",
     "output_type": "stream",
     "text": [
      "Twinkle, twinkle, little star\n",
      "How I wonder what you are\n",
      "Up above the world so high\n",
      "Like a diamond in the sky\n",
      "\n",
      "When the blazing sun is gone\n",
      "When he nothing shines upon\n",
      "Then you show your little light\n",
      "Twinkle, twinkle, all the night\n",
      "\n",
      "Then the traveller in the dark\n",
      "Thanks you for your tiny spark\n",
      "He could not see which way to go\n",
      "If you did not twinkle so\n",
      "\n",
      "In the dark blue sky you keep\n",
      "And often through my curtains peep\n",
      "For you never shut your eye\n",
      "Till the sun is in the sky\n"
     ]
    }
   ],
   "source": [
    "twinkle_twinkle_little_star = '''Twinkle, twinkle, little star\n",
    "How I wonder what you are\n",
    "Up above the world so high\n",
    "Like a diamond in the sky\n",
    "\n",
    "When the blazing sun is gone\n",
    "When he nothing shines upon\n",
    "Then you show your little light\n",
    "Twinkle, twinkle, all the night\n",
    "\n",
    "Then the traveller in the dark\n",
    "Thanks you for your tiny spark\n",
    "He could not see which way to go\n",
    "If you did not twinkle so\n",
    "\n",
    "In the dark blue sky you keep\n",
    "And often through my curtains peep\n",
    "For you never shut your eye\n",
    "Till the sun is in the sky'''\n",
    "\n",
    "print(twinkle_twinkle_little_star)"
   ]
  },
  {
   "cell_type": "code",
   "execution_count": null,
   "metadata": {},
   "outputs": [],
   "source": []
  }
 ],
 "metadata": {
  "kernelspec": {
   "display_name": "Python 3",
   "language": "python",
   "name": "python3"
  },
  "language_info": {
   "codemirror_mode": {
    "name": "ipython",
    "version": 3
   },
   "file_extension": ".py",
   "mimetype": "text/x-python",
   "name": "python",
   "nbconvert_exporter": "python",
   "pygments_lexer": "ipython3",
   "version": "3.8.5"
  }
 },
 "nbformat": 4,
 "nbformat_minor": 4
}
