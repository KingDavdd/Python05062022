{
 "cells": [
  {
   "cell_type": "code",
   "execution_count": 1,
   "metadata": {},
   "outputs": [
    {
     "name": "stdout",
     "output_type": "stream",
     "text": [
      "i have 1000 dollars, so i can buy 3 footbal for 450 dollars\n"
     ]
    }
   ],
   "source": [
    "totalmoney = 1000\n",
    "quantity = 3\n",
    "price = 450\n",
    "\n",
    "report ='i have {} dollars, so i can buy {} footbal for {} dollars'\n",
    "print(report.format(totalmoney,quantity,price))"
   ]
  },
  {
   "cell_type": "code",
   "execution_count": 2,
   "metadata": {},
   "outputs": [
    {
     "name": "stdout",
     "output_type": "stream",
     "text": [
      "458.0\n"
     ]
    }
   ],
   "source": [
    "number1 = float(458)\n",
    "print(number1)"
   ]
  },
  {
   "cell_type": "code",
   "execution_count": 9,
   "metadata": {},
   "outputs": [
    {
     "name": "stdout",
     "output_type": "stream",
     "text": [
      "955.0800000000004\n",
      "5955.08\n"
     ]
    }
   ],
   "source": [
    "principal = 5000\n",
    "rate = 6\n",
    "time = 3\n",
    "compound_interest = principal * ((1 + rate / 100)** time - 1)\n",
    "total_amount = (compound_interest + principal)\n",
    "print(compound_interest)\n",
    "print(total_amount)\n"
   ]
  },
  {
   "cell_type": "code",
   "execution_count": 26,
   "metadata": {},
   "outputs": [
    {
     "name": "stdout",
     "output_type": "stream",
     "text": [
      "First year the final amount at the first year is 550000\n",
      "Second year the final amount at the second year is 667625.0\n",
      "Third year the final amount at the third year is 667625.0\n",
      "1006.25 is > 700,000  which is the needed amount\n"
     ]
    }
   ],
   "source": [
    "amount_needed = 700000\n",
    "principal = 550000\n",
    "rate = (5 / 100)\n",
    "time = 3\n",
    "n = 1\n",
    "first_deposit = 25000\n",
    "second_deposit = 35000\n",
    "\n",
    "print('First year','the final amount at the first year is',principal)\n",
    "t = 1\n",
    "\n",
    "principal1 = (principal *((1 + rate / n )** n*t)) + first_deposit\n",
    "\n",
    "\n",
    "print('Second year',\"the final amount at the second year is\",principal2)\n",
    "\n",
    "principal2 = (principal1 *((1 + rate / n )** n*t)) + second_deposit \n",
    "\n",
    "\n",
    "print('Third year', 'the final amount at the third year is',principal2)\n",
    "\n",
    "principal3 = (principal2 *((1 + rate / n )** n*t))\n",
    "print(principal3 - amount_needed,\"is > 700,000  which is the needed amount\")"
   ]
  },
  {
   "cell_type": "code",
   "execution_count": null,
   "metadata": {},
   "outputs": [],
   "source": []
  },
  {
   "cell_type": "code",
   "execution_count": null,
   "metadata": {},
   "outputs": [],
   "source": []
  }
 ],
 "metadata": {
  "kernelspec": {
   "display_name": "Python 3",
   "language": "python",
   "name": "python3"
  },
  "language_info": {
   "codemirror_mode": {
    "name": "ipython",
    "version": 3
   },
   "file_extension": ".py",
   "mimetype": "text/x-python",
   "name": "python",
   "nbconvert_exporter": "python",
   "pygments_lexer": "ipython3",
   "version": "3.8.5"
  }
 },
 "nbformat": 4,
 "nbformat_minor": 4
}
