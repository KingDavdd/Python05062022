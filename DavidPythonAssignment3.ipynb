{
 "cells": [
  {
   "cell_type": "code",
   "execution_count": 77,
   "metadata": {},
   "outputs": [
    {
     "name": "stdout",
     "output_type": "stream",
     "text": [
      "[55, 57, 47, 55, 55, 46, 50, 57, 53, 55, 50, 58, 51, 51, 49, 45, 55, 48, 45, 53, 46]\n"
     ]
    }
   ],
   "source": [
    "numbers = [46,53,45,48,55,45,49,51,51,58,50,55,53,57,50,46,55,55,47,57,55]\n",
    "numbers.reverse()\n",
    "print(numbers)\n"
   ]
  },
  {
   "cell_type": "code",
   "execution_count": 52,
   "metadata": {},
   "outputs": [
    {
     "name": "stdout",
     "output_type": "stream",
     "text": [
      "5\n"
     ]
    }
   ],
   "source": [
    "print(numbers.count(55))"
   ]
  },
  {
   "cell_type": "code",
   "execution_count": 53,
   "metadata": {},
   "outputs": [
    {
     "name": "stdout",
     "output_type": "stream",
     "text": [
      "49\n",
      "57\n"
     ]
    }
   ],
   "source": [
    "print(numbers[6])\n",
    "print(numbers[13])"
   ]
  },
  {
   "cell_type": "code",
   "execution_count": 57,
   "metadata": {},
   "outputs": [
    {
     "name": "stdout",
     "output_type": "stream",
     "text": [
      "[55, 57, 47, 55, 55, 46, 50, 57, 53, 55, 50, 58, 51, 51, 49, 45, 55, 48, 45, 53, 46]\n"
     ]
    }
   ],
   "source": [
    "nums = [46,53,45,48,55,45,49,51,51,58,50,55,53,57,50,46,55,55,47,57,55]\n",
    "nums.reverse()\n",
    "print(nums)"
   ]
  },
  {
   "cell_type": "code",
   "execution_count": 59,
   "metadata": {},
   "outputs": [
    {
     "name": "stdout",
     "output_type": "stream",
     "text": [
      "58\n"
     ]
    }
   ],
   "source": [
    "print(nums[11])"
   ]
  },
  {
   "cell_type": "code",
   "execution_count": 64,
   "metadata": {},
   "outputs": [
    {
     "name": "stdout",
     "output_type": "stream",
     "text": [
      "2\n"
     ]
    }
   ],
   "source": [
    "print(numbers.count(51))"
   ]
  },
  {
   "cell_type": "code",
   "execution_count": 65,
   "metadata": {},
   "outputs": [
    {
     "name": "stdout",
     "output_type": "stream",
     "text": [
      "49\n",
      "57\n"
     ]
    }
   ],
   "source": [
    "print(nums[14])\n",
    "print(nums[7])"
   ]
  },
  {
   "cell_type": "code",
   "execution_count": 67,
   "metadata": {},
   "outputs": [
    {
     "name": "stdout",
     "output_type": "stream",
     "text": [
      "[55, 57, 47, 55, 55, 46, 50, 57, 53, 55, 50, 58, 51, 51, 49, 69, 69, 45, 55, 48, 45, 53, 46]\n"
     ]
    }
   ],
   "source": [
    "nums.insert(15,69)\n",
    "print(nums)"
   ]
  },
  {
   "cell_type": "code",
   "execution_count": 69,
   "metadata": {},
   "outputs": [
    {
     "name": "stdout",
     "output_type": "stream",
     "text": [
      "[55, 57, 47, 55, 55, 46, 50, 57, 53, 55, 50, 58, 51, 51, 49, 69, 69, 45, 55, 48, 45, 53, 46, 9, 85, 36, 95, 45, 78]\n"
     ]
    }
   ],
   "source": [
    "second_nums = [9,85,36,95,45,78]\n",
    "nums.extend(second_nums)\n",
    "print(nums)"
   ]
  },
  {
   "cell_type": "code",
   "execution_count": null,
   "metadata": {},
   "outputs": [],
   "source": []
  }
 ],
 "metadata": {
  "kernelspec": {
   "display_name": "Python 3",
   "language": "python",
   "name": "python3"
  },
  "language_info": {
   "codemirror_mode": {
    "name": "ipython",
    "version": 3
   },
   "file_extension": ".py",
   "mimetype": "text/x-python",
   "name": "python",
   "nbconvert_exporter": "python",
   "pygments_lexer": "ipython3",
   "version": "3.8.5"
  }
 },
 "nbformat": 4,
 "nbformat_minor": 4
}
