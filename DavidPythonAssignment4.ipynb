{
 "cells": [
  {
   "cell_type": "code",
   "execution_count": 12,
   "metadata": {},
   "outputs": [
    {
     "name": "stdout",
     "output_type": "stream",
     "text": [
      "Please enter your salary68\n",
      "please enter your year of service3\n",
      "you go drink garri again next year.... sorry\n"
     ]
    }
   ],
   "source": [
    "salary = int(input('Please enter your salary'))\n",
    "year_of_service =int(input('please enter your year of service'))\n",
    "bonus = (salary/100)*5\n",
    "net_bonus = (salary + bonus)\n",
    "if year_of_service >= 5:\n",
    "        print(f'Congratulation your net bonus is{net_bonus}')\n",
    "else:\n",
    "    print('you go drink garri again next year.... sorry')"
   ]
  },
  {
   "cell_type": "code",
   "execution_count": 4,
   "metadata": {},
   "outputs": [
    {
     "name": "stdout",
     "output_type": "stream",
     "text": [
      "please enter your number70\n",
      "please enter your number70\n",
      "both numbers are equal\n"
     ]
    }
   ],
   "source": [
    "num1 = int(input('please enter your number'))\n",
    "num2 = int(input('please enter your number'))\n",
    "if num1 > num2:\n",
    "    print(f' {num1} is the greatest among them')\n",
    "elif num1 < num2:\n",
    "    print(f'{num2} is the greatest among them')\n",
    "else:\n",
    "    print('both numbers are equal')\n"
   ]
  },
  {
   "cell_type": "code",
   "execution_count": 3,
   "metadata": {},
   "outputs": [
    {
     "name": "stdout",
     "output_type": "stream",
     "text": [
      "Please enter your age800000\n",
      "please enter your age89\n",
      "please enter your age67\n",
      "Age1 is the oldest\n",
      "Age3 is the youngest\n"
     ]
    }
   ],
   "source": [
    "Age1 = int(input('Please enter your age')) \n",
    "Age2 = int(input('please enter your age'))\n",
    "Age3 = int(input('please enter your age'))\n",
    "\n",
    "if Age1 > Age2 and Age1 >Age3:\n",
    "    print('Age1 is the oldest')\n",
    "elif Age2 > Age1 and Age2> Age3:\n",
    "    print('Age2 is the oldest')\n",
    "else:\n",
    "    print('Age3 is the oldest')\n",
    "if Age1 < Age2 and Age1 < Age3:\n",
    "    print('Age1 is the youngest')\n",
    "elif Age2 < Age1 and Age2 < Age3:\n",
    "    print('Age2 is the youngest')\n",
    "else:\n",
    "    print('Age3 is the youngest')"
   ]
  },
  {
   "cell_type": "code",
   "execution_count": 18,
   "metadata": {},
   "outputs": [
    {
     "name": "stdout",
     "output_type": "stream",
     "text": [
      "please enter the total number of classes held80\n",
      "please enter the total number of days student present67\n",
      "You are allowed to sit for the exam\n"
     ]
    }
   ],
   "source": [
    "Number_of_classes_held = int(input('please enter the total number of classes held'))\n",
    "Number_of_classes_attended = int(input('please enter the total number of days student present'))\n",
    "percentage_of_class_attended = (Number_of_classes_held /Number_of_classes_attended)*100\n",
    "\n",
    "if percentage_of_class_attended > 75:\n",
    "    print('You are allowed to sit for the exam')\n",
    "else:\n",
    "    print('Sorry you are not allowed to sit this exam')"
   ]
  },
  {
   "cell_type": "code",
   "execution_count": 4,
   "metadata": {},
   "outputs": [
    {
     "name": "stdout",
     "output_type": "stream",
     "text": [
      "Please enter your age: 23\n",
      "Please enter your sex: M\n",
      "enter your marital status married(Yes) or single(No) no\n",
      "you are assigned to work anywhere\n"
     ]
    }
   ],
   "source": [
    "Age = int(input('Please enter your age: '))\n",
    "Sex = str(input('Please enter your sex: '))\n",
    "marital_status = str(input('enter your marital status married(Yes) or single(No) '))\n",
    "\n",
    "if Sex == 'F':\n",
    "    print('you are assigned to work in urban areas')\n",
    "elif Sex == 'M'and Age >= 20 and Age <= 40:\n",
    "    print('you are assigned to work anywhere')\n",
    "elif Sex == 'M' and Age >= 40 and Age <= 60:\n",
    "    print('you are assigned to work in urban areas')\n",
    "elif Age > 60:\n",
    "    print('Sorry you are not elegible enrole')\n",
    "else:\n",
    "    print('Sorry data not available')   \n",
    "    "
   ]
  },
  {
   "cell_type": "code",
   "execution_count": null,
   "metadata": {},
   "outputs": [],
   "source": []
  },
  {
   "cell_type": "code",
   "execution_count": null,
   "metadata": {},
   "outputs": [],
   "source": []
  }
 ],
 "metadata": {
  "kernelspec": {
   "display_name": "Python 3",
   "language": "python",
   "name": "python3"
  },
  "language_info": {
   "codemirror_mode": {
    "name": "ipython",
    "version": 3
   },
   "file_extension": ".py",
   "mimetype": "text/x-python",
   "name": "python",
   "nbconvert_exporter": "python",
   "pygments_lexer": "ipython3",
   "version": "3.8.5"
  }
 },
 "nbformat": 4,
 "nbformat_minor": 4
}
