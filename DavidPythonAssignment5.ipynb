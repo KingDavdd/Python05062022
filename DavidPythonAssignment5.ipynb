{
 "cells": [
  {
   "cell_type": "code",
   "execution_count": 2,
   "metadata": {},
   "outputs": [
    {
     "name": "stdout",
     "output_type": "stream",
     "text": [
      "Please enter your weight in kg:65\n",
      "Please enter your height in m:1.78\n",
      "20.515086478979924\n",
      "Normal.. You dey try boss\n"
     ]
    }
   ],
   "source": [
    "def max_index():\n",
    "    weight = float(input('Please enter your weight in kg:'))\n",
    "    height = float(input('Please enter your height in m:'))\n",
    "    body_max_index = (weight/(height**2))\n",
    "    print(body_max_index)\n",
    "    if body_max_index < 16.0:\n",
    "        print('Severely Underweight, you need to see the doctor ASAP!!')\n",
    "    elif body_max_index >= 16.0 and body_max_index  <= 18.4:\n",
    "        print('Underweight, Abeg try dey chop')\n",
    "    elif body_max_index >= 18.5 and body_max_index  <= 24.9:\n",
    "        print('Normal.. You dey try boss')\n",
    "    elif body_max_index >= 25.0 and body_max_index  <=29.9:\n",
    "        print('Overweight.. Oga calm down, no dey chop too much')\n",
    "    elif body_max_index >= 30.0 and body_max_index  <=34.9:\n",
    "        print('Moderately Obese.. Wahala don dey oo')\n",
    "    elif body_max_index >= 35.0 and body_max_index  <=39.9:\n",
    "        print('Severely Obese.. Gbese dey oo!! Abeg go see doctor now now!!')\n",
    "    elif body_max_index > 40.0:\n",
    "            print('Morbidly Obese.. Na God go help you ooo, this one don pass doctor')\n",
    "    else:\n",
    "        print('You\\'re good to go.. chop life geng$$$$')\n",
    "        \n",
    "max_index()"
   ]
  },
  {
   "cell_type": "code",
   "execution_count": null,
   "metadata": {},
   "outputs": [],
   "source": []
  }
 ],
 "metadata": {
  "kernelspec": {
   "display_name": "Python 3",
   "language": "python",
   "name": "python3"
  },
  "language_info": {
   "codemirror_mode": {
    "name": "ipython",
    "version": 3
   },
   "file_extension": ".py",
   "mimetype": "text/x-python",
   "name": "python",
   "nbconvert_exporter": "python",
   "pygments_lexer": "ipython3",
   "version": "3.8.5"
  }
 },
 "nbformat": 4,
 "nbformat_minor": 4
}
