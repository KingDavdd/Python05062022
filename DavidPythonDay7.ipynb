{
 "cells": [
  {
   "cell_type": "markdown",
   "metadata": {},
   "source": [
    "# Anonymous Function\n",
    "# lambda"
   ]
  },
  {
   "cell_type": "code",
   "execution_count": 2,
   "metadata": {},
   "outputs": [
    {
     "data": {
      "text/plain": [
       "3125"
      ]
     },
     "execution_count": 2,
     "metadata": {},
     "output_type": "execute_result"
    }
   ],
   "source": [
    "(lambda x: x**x)(5)"
   ]
  },
  {
   "cell_type": "markdown",
   "metadata": {},
   "source": [
    "# Exercise1\n",
    "# Wrrite a lambda function to check if a given number is an evennumber or odd number\n"
   ]
  },
  {
   "cell_type": "code",
   "execution_count": 14,
   "metadata": {},
   "outputs": [
    {
     "name": "stdout",
     "output_type": "stream",
     "text": [
      "Please provide a number431\n"
     ]
    },
    {
     "data": {
      "text/plain": [
       "'431 is an odd number'"
      ]
     },
     "execution_count": 14,
     "metadata": {},
     "output_type": "execute_result"
    }
   ],
   "source": [
    "(lambda num:f'{num} is an even number' if num % 2 == 0 else f'{num} is an odd number')(int(input('Please provide a number')))"
   ]
  },
  {
   "cell_type": "markdown",
   "metadata": {},
   "source": [
    "# Exercise2 \n",
    "# Write a lambda function to check if a given password starts with an uppercase letter and ends with any special characters"
   ]
  },
  {
   "cell_type": "code",
   "execution_count": 17,
   "metadata": {},
   "outputs": [
    {
     "name": "stdout",
     "output_type": "stream",
     "text": [
      "Please enter your passwordMacy@@\n"
     ]
    },
    {
     "data": {
      "text/plain": [
       "'Macy@@ starts with upper case and ends with a special character'"
      ]
     },
     "execution_count": 17,
     "metadata": {},
     "output_type": "execute_result"
    }
   ],
   "source": [
    "(lambda password: f'{password} starts with upper case and ends with a special character' if password[0] == password.upper() and passowrd[-1] == '#' or password[-1]== '@' else False)(input('Please enter your password'))\n",
    " "
   ]
  },
  {
   "cell_type": "markdown",
   "metadata": {},
   "source": [
    "# Map and filter"
   ]
  },
  {
   "cell_type": "code",
   "execution_count": 25,
   "metadata": {},
   "outputs": [
    {
     "name": "stdout",
     "output_type": "stream",
     "text": [
      "['BINGO', 'CAPPY', 'WISKY', 'BANTY', 'HENRY']\n"
     ]
    }
   ],
   "source": [
    "dogs = ['bingo','cappy','wisky','banty','henry']\n",
    "update_list = list(map(lambda x: str.upper(x), dogs))\n",
    "print(update_list)"
   ]
  },
  {
   "cell_type": "code",
   "execution_count": 1,
   "metadata": {},
   "outputs": [
    {
     "name": "stdout",
     "output_type": "stream",
     "text": [
      "[56, 60, 61, 50, 58, 56, 51, 47, 56, 46, 57, 68, 57, 57, 65, 66, 47, 61, 60, 70, 60, 47, 61, 56, 61, 67, 70, 70, 66, 45, 66, 58, 46, 57, 51, 64, 47, 62, 52, 66, 55, 45, 60, 63, 46, 65, 69, 46, 65, 45]\n",
      "[7.483314773547883, 7.745966692414834, 7.810249675906654, 7.0710678118654755, 7.615773105863909, 7.483314773547883, 7.14142842854285, 6.855654600401044, 7.483314773547883, 6.782329983125268, 7.54983443527075, 8.246211251235321, 7.54983443527075, 7.54983443527075, 8.06225774829855, 8.12403840463596, 6.855654600401044, 7.810249675906654, 7.745966692414834, 8.366600265340756, 7.745966692414834, 6.855654600401044, 7.810249675906654, 7.483314773547883, 7.810249675906654, 8.18535277187245, 8.366600265340756, 8.366600265340756, 8.12403840463596, 6.708203932499369, 8.12403840463596, 7.615773105863909, 6.782329983125268, 7.54983443527075, 7.14142842854285, 8.0, 6.855654600401044, 7.874007874011811, 7.211102550927978, 8.12403840463596, 7.416198487095663, 6.708203932499369, 7.745966692414834, 7.937253933193772, 6.782329983125268, 8.06225774829855, 8.306623862918075, 6.782329983125268, 8.06225774829855, 6.708203932499369]\n",
      "[50, 51, 47, 46, 47, 47, 45, 46, 51, 47, 52, 55, 45, 46, 46, 45]\n"
     ]
    }
   ],
   "source": [
    "import random as rn\n",
    "import math as m\n",
    "numbers = []\n",
    "counter = 1\n",
    "while counter <= 50:\n",
    "    num = rn.randint(45,70)\n",
    "    numbers.append(num)\n",
    "    counter += 1\n",
    "print(numbers)    \n",
    "numsqrt = list(map(lambda x:m.sqrt(x),numbers))\n",
    "num_filter = list(filter(lambda x: x <= 55, numbers))\n",
    "print(numsqrt)\n",
    "print(num_filter)"
   ]
  },
  {
   "cell_type": "code",
   "execution_count": null,
   "metadata": {},
   "outputs": [],
   "source": []
  }
 ],
 "metadata": {
  "kernelspec": {
   "display_name": "Python 3",
   "language": "python",
   "name": "python3"
  },
  "language_info": {
   "codemirror_mode": {
    "name": "ipython",
    "version": 3
   },
   "file_extension": ".py",
   "mimetype": "text/x-python",
   "name": "python",
   "nbconvert_exporter": "python",
   "pygments_lexer": "ipython3",
   "version": "3.8.5"
  }
 },
 "nbformat": 4,
 "nbformat_minor": 4
}
